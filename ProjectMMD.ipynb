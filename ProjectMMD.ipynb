{
 "cells": [
  {
   "cell_type": "markdown",
   "metadata": {},
   "source": [
    "# Some simulations of Habits in Labor Supply"
   ]
  },
  {
   "cell_type": "code",
   "execution_count": 1,
   "metadata": {},
   "outputs": [],
   "source": [
    "import matplotlib.pyplot as plt\n",
    "import numpy as np\n",
    "import pandas as pd "
   ]
  },
  {
   "cell_type": "markdown",
   "metadata": {},
   "source": [
    "Here is some text describing the rational habits model of labor supply with non-separable preferences. It is non-separable in terms of labor, but it is indeed separable in terms of labor supply and consumption."
   ]
  },
  {
   "cell_type": "code",
   "execution_count": 2,
   "metadata": {},
   "outputs": [],
   "source": [
    "# Using Bover's estimates to calibrate the model\n",
    "# Based on Table 1, Column 2 Estimates\n",
    "gamma_h = 1768.1516\n",
    "gamma_c = 4454.0084\n",
    "varphi = 0.2205\n",
    "rho = 0.2429\n",
    "r = 0.2429\n",
    "beta_const = 0.1845\n",
    "beta_children = -0.0238\n",
    "num_children=1.79 #this is the mean number of children (Table A1)\n",
    "B_1 = beta_const + beta_children*num_children\n",
    "B_2 = 1 - B_1\n",
    "\n",
    "sim_size=10000\n",
    "T=40"
   ]
  },
  {
   "cell_type": "code",
   "execution_count": 3,
   "metadata": {},
   "outputs": [],
   "source": [
    "np.random.seed(1126)\n",
    "#Wages based on summary stats table\n",
    "mean_wage= 4.66\n",
    "sd_wage = 2.72\n",
    "Wage = np.random.normal(mean_wage, sd_wage,sim_size)\n",
    "Wage[Wage<=1.60]=1.60 #Setting the lower wages equal to min wage"
   ]
  },
  {
   "cell_type": "code",
   "execution_count": 1,
   "metadata": {},
   "outputs": [
    {
     "ename": "NameError",
     "evalue": "name 'varphi' is not defined",
     "output_type": "error",
     "traceback": [
      "\u001b[0;31m---------------------------------------------------------------------------\u001b[0m",
      "\u001b[0;31mNameError\u001b[0m                                 Traceback (most recent call last)",
      "\u001b[0;32m<ipython-input-1-22b771b7525f>\u001b[0m in \u001b[0;36m<module>\u001b[0;34m\u001b[0m\n\u001b[1;32m      1\u001b[0m \u001b[0;31m#trying to properly calculate lagrage multiplier for period 1 (Equation 8)\u001b[0m\u001b[0;34m\u001b[0m\u001b[0;34m\u001b[0m\u001b[0;34m\u001b[0m\u001b[0m\n\u001b[0;32m----> 2\u001b[0;31m \u001b[0mfactor\u001b[0m \u001b[0;34m=\u001b[0m \u001b[0;34m(\u001b[0m\u001b[0;36m1\u001b[0m\u001b[0;34m-\u001b[0m\u001b[0;34m(\u001b[0m\u001b[0mvarphi\u001b[0m\u001b[0;34m/\u001b[0m\u001b[0;34m(\u001b[0m\u001b[0;36m1\u001b[0m\u001b[0;34m+\u001b[0m\u001b[0mr\u001b[0m\u001b[0;34m)\u001b[0m\u001b[0;34m)\u001b[0m\u001b[0;34m**\u001b[0m\u001b[0mT\u001b[0m\u001b[0;34m)\u001b[0m\u001b[0;34m/\u001b[0m\u001b[0;34m(\u001b[0m\u001b[0;36m1\u001b[0m\u001b[0;34m-\u001b[0m\u001b[0;34m(\u001b[0m\u001b[0mvarphi\u001b[0m\u001b[0;34m/\u001b[0m\u001b[0;34m(\u001b[0m\u001b[0;36m1\u001b[0m\u001b[0;34m+\u001b[0m\u001b[0mr\u001b[0m\u001b[0;34m)\u001b[0m\u001b[0;34m)\u001b[0m\u001b[0;34m)\u001b[0m\u001b[0;34m\u001b[0m\u001b[0;34m\u001b[0m\u001b[0m\n\u001b[0m\u001b[1;32m      3\u001b[0m \u001b[0mw1plus\u001b[0m \u001b[0;34m=\u001b[0m \u001b[0mWage\u001b[0m \u001b[0;34m*\u001b[0m\u001b[0mfactor\u001b[0m\u001b[0;34m\u001b[0m\u001b[0;34m\u001b[0m\u001b[0m\n\u001b[1;32m      4\u001b[0m \u001b[0mdiscount_factor\u001b[0m \u001b[0;34m=\u001b[0m \u001b[0;36m1\u001b[0m\u001b[0;34m/\u001b[0m\u001b[0;34m(\u001b[0m\u001b[0;36m1\u001b[0m\u001b[0;34m+\u001b[0m\u001b[0mrho\u001b[0m\u001b[0;34m)\u001b[0m\u001b[0;34m\u001b[0m\u001b[0;34m\u001b[0m\u001b[0m\n\u001b[1;32m      5\u001b[0m \u001b[0mfirst_part\u001b[0m \u001b[0;34m=\u001b[0m \u001b[0;34m(\u001b[0m\u001b[0;36m1\u001b[0m\u001b[0;34m-\u001b[0m\u001b[0mdiscount_factor\u001b[0m\u001b[0;34m)\u001b[0m \u001b[0;34m/\u001b[0m \u001b[0;34m(\u001b[0m\u001b[0;36m1\u001b[0m\u001b[0;34m-\u001b[0m\u001b[0mdiscount_factor\u001b[0m\u001b[0;34m**\u001b[0m\u001b[0mT\u001b[0m\u001b[0;34m)\u001b[0m\u001b[0;34m\u001b[0m\u001b[0;34m\u001b[0m\u001b[0m\n",
      "\u001b[0;31mNameError\u001b[0m: name 'varphi' is not defined"
     ]
    }
   ],
   "source": [
    "#trying to properly calculate lagrage multiplier for period 1 (Equation 8)\n",
    "factor = (1-(varphi/(1+r))**T)/(1-(varphi/(1+r)))\n",
    "w1plus = Wage *factor\n",
    "discount_factor = 1/(1+rho)\n",
    "first_part = (1-discount_factor) / (1-discount_factor**T)\n",
    "Rminus1 = 1/(1+r)\n",
    "second_part = (1 - Rminus1**T) / (1-Rminus1)\n",
    "lagrange_inverse = first_part*second_part * (gamma_h * w1plus - gamma_c)\n",
    "\n",
    "consumption1 = gamma_c + B_2 * lagrange_inverse\n",
    "h1 = gamma_h - B_1/w1plus*lagrange_inverse"
   ]
  },
  {
   "cell_type": "code",
   "execution_count": 5,
   "metadata": {},
   "outputs": [
    {
     "data": {
      "text/html": [
       "<div>\n",
       "<style scoped>\n",
       "    .dataframe tbody tr th:only-of-type {\n",
       "        vertical-align: middle;\n",
       "    }\n",
       "\n",
       "    .dataframe tbody tr th {\n",
       "        vertical-align: top;\n",
       "    }\n",
       "\n",
       "    .dataframe thead th {\n",
       "        text-align: right;\n",
       "    }\n",
       "</style>\n",
       "<table border=\"1\" class=\"dataframe\">\n",
       "  <thead>\n",
       "    <tr style=\"text-align: right;\">\n",
       "      <th></th>\n",
       "      <th>wage</th>\n",
       "      <th>h1</th>\n",
       "      <th>c1</th>\n",
       "    </tr>\n",
       "  </thead>\n",
       "  <tbody>\n",
       "    <tr>\n",
       "      <th>0</th>\n",
       "      <td>4.369499</td>\n",
       "      <td>1636.236161</td>\n",
       "      <td>8691.465052</td>\n",
       "    </tr>\n",
       "    <tr>\n",
       "      <th>1</th>\n",
       "      <td>7.511255</td>\n",
       "      <td>1586.469298</td>\n",
       "      <td>14486.369099</td>\n",
       "    </tr>\n",
       "    <tr>\n",
       "      <th>2</th>\n",
       "      <td>2.536240</td>\n",
       "      <td>1722.239165</td>\n",
       "      <td>5310.057633</td>\n",
       "    </tr>\n",
       "    <tr>\n",
       "      <th>3</th>\n",
       "      <td>6.855401</td>\n",
       "      <td>1593.091066</td>\n",
       "      <td>13276.659444</td>\n",
       "    </tr>\n",
       "    <tr>\n",
       "      <th>4</th>\n",
       "      <td>1.600000</td>\n",
       "      <td>1842.186045</td>\n",
       "      <td>3583.181588</td>\n",
       "    </tr>\n",
       "  </tbody>\n",
       "</table>\n",
       "</div>"
      ],
      "text/plain": [
       "       wage           h1            c1\n",
       "0  4.369499  1636.236161   8691.465052\n",
       "1  7.511255  1586.469298  14486.369099\n",
       "2  2.536240  1722.239165   5310.057633\n",
       "3  6.855401  1593.091066  13276.659444\n",
       "4  1.600000  1842.186045   3583.181588"
      ]
     },
     "execution_count": 5,
     "metadata": {},
     "output_type": "execute_result"
    }
   ],
   "source": [
    "df1= pd.DataFrame({'wage':Wage,'h1':h1, 'c1':consumption1})\n",
    "df1.head()"
   ]
  },
  {
   "cell_type": "code",
   "execution_count": 6,
   "metadata": {},
   "outputs": [],
   "source": [
    "#Calculating Equation 8 over the Life Cycle\n",
    "column_counter=2\n",
    "for i in range(T-1):\n",
    "    variable_name=\"h\"+str(column_counter)\n",
    "    previous_time=\"h\"+str(column_counter-1)\n",
    "    consumption_name=\"c\"+str(column_counter)\n",
    "    column_counter+=1\n",
    "    factor = (1-(varphi/(1+r))**(T-i-1))/(1-(varphi/(1+r)))\n",
    "    w1plus = Wage *factor\n",
    "    discount_factor = 1/(1+rho)\n",
    "    first_part = (1-discount_factor) / (1-discount_factor**(T-i-1))\n",
    "    Rminus1 = 1/(1+r)\n",
    "    second_part = (1 - Rminus1**(T-i-1)) / (1-Rminus1)\n",
    "    lagrange_inverse = first_part*second_part * (gamma_h * w1plus - gamma_c + varphi*df1[previous_time]*w1plus)\n",
    "    h_next = gamma_h - B_1/w1plus*lagrange_inverse + varphi * df1[previous_time]\n",
    "    cons_next = gamma_c + B_2 * lagrange_inverse\n",
    "    df1[variable_name]=h_next\n",
    "    df1[consumption_name]=cons_next"
   ]
  },
  {
   "cell_type": "code",
   "execution_count": 7,
   "metadata": {},
   "outputs": [
    {
     "data": {
      "text/html": [
       "<div>\n",
       "<style scoped>\n",
       "    .dataframe tbody tr th:only-of-type {\n",
       "        vertical-align: middle;\n",
       "    }\n",
       "\n",
       "    .dataframe tbody tr th {\n",
       "        vertical-align: top;\n",
       "    }\n",
       "\n",
       "    .dataframe thead th {\n",
       "        text-align: right;\n",
       "    }\n",
       "</style>\n",
       "<table border=\"1\" class=\"dataframe\">\n",
       "  <thead>\n",
       "    <tr style=\"text-align: right;\">\n",
       "      <th></th>\n",
       "      <th>wage</th>\n",
       "      <th>h1</th>\n",
       "      <th>c1</th>\n",
       "      <th>h2</th>\n",
       "      <th>c2</th>\n",
       "      <th>h3</th>\n",
       "      <th>c3</th>\n",
       "      <th>h4</th>\n",
       "      <th>c4</th>\n",
       "      <th>h5</th>\n",
       "      <th>...</th>\n",
       "      <th>h36</th>\n",
       "      <th>c36</th>\n",
       "      <th>h37</th>\n",
       "      <th>c37</th>\n",
       "      <th>h38</th>\n",
       "      <th>c38</th>\n",
       "      <th>h39</th>\n",
       "      <th>c39</th>\n",
       "      <th>h40</th>\n",
       "      <th>c40</th>\n",
       "    </tr>\n",
       "  </thead>\n",
       "  <tbody>\n",
       "    <tr>\n",
       "      <th>0</th>\n",
       "      <td>4.369499</td>\n",
       "      <td>1636.236161</td>\n",
       "      <td>8691.465052</td>\n",
       "      <td>1945.830845</td>\n",
       "      <td>10335.990114</td>\n",
       "      <td>2004.409716</td>\n",
       "      <td>10647.153152</td>\n",
       "      <td>2015.493512</td>\n",
       "      <td>10706.028775</td>\n",
       "      <td>2017.590694</td>\n",
       "      <td>...</td>\n",
       "      <td>2018.101747</td>\n",
       "      <td>10717.999488</td>\n",
       "      <td>2018.202179</td>\n",
       "      <td>10709.797417</td>\n",
       "      <td>2018.771286</td>\n",
       "      <td>10663.564064</td>\n",
       "      <td>2022.077347</td>\n",
       "      <td>10402.944491</td>\n",
       "      <td>2044.497105</td>\n",
       "      <td>8933.428267</td>\n",
       "    </tr>\n",
       "    <tr>\n",
       "      <th>1</th>\n",
       "      <td>7.511255</td>\n",
       "      <td>1586.469298</td>\n",
       "      <td>14486.369099</td>\n",
       "      <td>1886.647519</td>\n",
       "      <td>17227.356596</td>\n",
       "      <td>1943.444688</td>\n",
       "      <td>17745.982927</td>\n",
       "      <td>1954.191365</td>\n",
       "      <td>17844.112988</td>\n",
       "      <td>1956.224760</td>\n",
       "      <td>...</td>\n",
       "      <td>1956.711876</td>\n",
       "      <td>17863.988370</td>\n",
       "      <td>1956.770300</td>\n",
       "      <td>17849.962412</td>\n",
       "      <td>1957.101365</td>\n",
       "      <td>17770.901353</td>\n",
       "      <td>1959.024589</td>\n",
       "      <td>17325.240711</td>\n",
       "      <td>1972.066765</td>\n",
       "      <td>14812.697074</td>\n",
       "    </tr>\n",
       "    <tr>\n",
       "      <th>2</th>\n",
       "      <td>2.536240</td>\n",
       "      <td>1722.239165</td>\n",
       "      <td>5310.057633</td>\n",
       "      <td>2048.106605</td>\n",
       "      <td>6314.781555</td>\n",
       "      <td>2109.764469</td>\n",
       "      <td>6504.886867</td>\n",
       "      <td>2121.430846</td>\n",
       "      <td>6540.856976</td>\n",
       "      <td>2123.638258</td>\n",
       "      <td>...</td>\n",
       "      <td>2124.190677</td>\n",
       "      <td>6548.215204</td>\n",
       "      <td>2124.363705</td>\n",
       "      <td>6543.411452</td>\n",
       "      <td>2125.344176</td>\n",
       "      <td>6516.333525</td>\n",
       "      <td>2131.039941</td>\n",
       "      <td>6363.687998</td>\n",
       "      <td>2169.665266</td>\n",
       "      <td>5502.792833</td>\n",
       "    </tr>\n",
       "    <tr>\n",
       "      <th>3</th>\n",
       "      <td>6.855401</td>\n",
       "      <td>1593.091066</td>\n",
       "      <td>13276.659444</td>\n",
       "      <td>1894.522202</td>\n",
       "      <td>15788.755973</td>\n",
       "      <td>1951.556437</td>\n",
       "      <td>16264.073502</td>\n",
       "      <td>1962.347969</td>\n",
       "      <td>16354.009041</td>\n",
       "      <td>1964.389851</td>\n",
       "      <td>...</td>\n",
       "      <td>1964.880152</td>\n",
       "      <td>16372.234291</td>\n",
       "      <td>1964.944166</td>\n",
       "      <td>16359.424093</td>\n",
       "      <td>1965.306903</td>\n",
       "      <td>16287.215951</td>\n",
       "      <td>1967.414122</td>\n",
       "      <td>15880.183380</td>\n",
       "      <td>1981.704039</td>\n",
       "      <td>13585.375933</td>\n",
       "    </tr>\n",
       "    <tr>\n",
       "      <th>4</th>\n",
       "      <td>1.600000</td>\n",
       "      <td>1842.186045</td>\n",
       "      <td>3583.181588</td>\n",
       "      <td>2190.748813</td>\n",
       "      <td>4261.160719</td>\n",
       "      <td>2256.700894</td>\n",
       "      <td>4389.442161</td>\n",
       "      <td>2269.179785</td>\n",
       "      <td>4413.714484</td>\n",
       "      <td>2271.540935</td>\n",
       "      <td>...</td>\n",
       "      <td>2272.151046</td>\n",
       "      <td>4418.717128</td>\n",
       "      <td>2272.425322</td>\n",
       "      <td>4415.648889</td>\n",
       "      <td>2273.979516</td>\n",
       "      <td>4398.353587</td>\n",
       "      <td>2283.008160</td>\n",
       "      <td>4300.850129</td>\n",
       "      <td>2344.235105</td>\n",
       "      <td>3750.776167</td>\n",
       "    </tr>\n",
       "  </tbody>\n",
       "</table>\n",
       "<p>5 rows × 81 columns</p>\n",
       "</div>"
      ],
      "text/plain": [
       "       wage           h1            c1           h2            c2  \\\n",
       "0  4.369499  1636.236161   8691.465052  1945.830845  10335.990114   \n",
       "1  7.511255  1586.469298  14486.369099  1886.647519  17227.356596   \n",
       "2  2.536240  1722.239165   5310.057633  2048.106605   6314.781555   \n",
       "3  6.855401  1593.091066  13276.659444  1894.522202  15788.755973   \n",
       "4  1.600000  1842.186045   3583.181588  2190.748813   4261.160719   \n",
       "\n",
       "            h3            c3           h4            c4           h5  ...  \\\n",
       "0  2004.409716  10647.153152  2015.493512  10706.028775  2017.590694  ...   \n",
       "1  1943.444688  17745.982927  1954.191365  17844.112988  1956.224760  ...   \n",
       "2  2109.764469   6504.886867  2121.430846   6540.856976  2123.638258  ...   \n",
       "3  1951.556437  16264.073502  1962.347969  16354.009041  1964.389851  ...   \n",
       "4  2256.700894   4389.442161  2269.179785   4413.714484  2271.540935  ...   \n",
       "\n",
       "           h36           c36          h37           c37          h38  \\\n",
       "0  2018.101747  10717.999488  2018.202179  10709.797417  2018.771286   \n",
       "1  1956.711876  17863.988370  1956.770300  17849.962412  1957.101365   \n",
       "2  2124.190677   6548.215204  2124.363705   6543.411452  2125.344176   \n",
       "3  1964.880152  16372.234291  1964.944166  16359.424093  1965.306903   \n",
       "4  2272.151046   4418.717128  2272.425322   4415.648889  2273.979516   \n",
       "\n",
       "            c38          h39           c39          h40           c40  \n",
       "0  10663.564064  2022.077347  10402.944491  2044.497105   8933.428267  \n",
       "1  17770.901353  1959.024589  17325.240711  1972.066765  14812.697074  \n",
       "2   6516.333525  2131.039941   6363.687998  2169.665266   5502.792833  \n",
       "3  16287.215951  1967.414122  15880.183380  1981.704039  13585.375933  \n",
       "4   4398.353587  2283.008160   4300.850129  2344.235105   3750.776167  \n",
       "\n",
       "[5 rows x 81 columns]"
      ]
     },
     "execution_count": 7,
     "metadata": {},
     "output_type": "execute_result"
    }
   ],
   "source": [
    "df1.head()"
   ]
  },
  {
   "cell_type": "code",
   "execution_count": 8,
   "metadata": {},
   "outputs": [
    {
     "name": "stdout",
     "output_type": "stream",
     "text": [
      "[1664.81595339 1979.81826217 2039.42031868 2050.69771266 2052.83152519\n",
      " 2053.23526704 2053.31165964 2053.32611399 2053.32884892 2053.3293664\n",
      " 2053.32946432 2053.32948284 2053.32948635 2053.32948701 2053.32948714\n",
      " 2053.32948716 2053.32948717 2053.32948717 2053.32948717 2053.32948717\n",
      " 2053.32948717 2053.32948717 2053.32948717 2053.32948717 2053.32948717\n",
      " 2053.32948717 2053.32948717 2053.32948719 2053.32948732 2053.329488\n",
      " 2053.32949188 2053.32951375 2053.32963699 2053.33033169 2053.33424763\n",
      " 2053.35632441 2053.48088154 2054.18668917 2058.28687652 2086.0919317 ]\n"
     ]
    }
   ],
   "source": [
    "mean_hours=np.zeros(T)\n",
    "mean_consumption=np.zeros(T)\n",
    "for i in range(T):\n",
    "    j=i+1\n",
    "    var_name = \"h\"+str(j)\n",
    "    cons_name = \"c\"+str(j)\n",
    "    mean_hours[i]=df1[var_name].mean()\n",
    "    mean_consumption[i]=df1[cons_name].mean()\n",
    "print(mean_hours)\n",
    "\n"
   ]
  },
  {
   "cell_type": "code",
   "execution_count": 9,
   "metadata": {},
   "outputs": [
    {
     "data": {
      "image/png": "[encoded data removed]",
      "text/plain": [
       "<Figure size 432x288 with 1 Axes>"
      ]
     },
     "metadata": {
      "needs_background": "light"
     },
     "output_type": "display_data"
    }
   ],
   "source": [
    "plt.figure()\n",
    "plt.plot(mean_hours)\n",
    "plt.xlim([1,40])\n",
    "plt.show()"
   ]
  },
  {
   "cell_type": "code",
   "execution_count": 10,
   "metadata": {},
   "outputs": [
    {
     "data": {
      "image/png": "[encoded data removed]",
      "text/plain": [
       "<Figure size 432x288 with 1 Axes>"
      ]
     },
     "metadata": {
      "needs_background": "light"
     },
     "output_type": "display_data"
    }
   ],
   "source": [
    "plt.figure()\n",
    "plt.plot(mean_consumption)\n",
    "plt.show()"
   ]
  },
  {
   "cell_type": "markdown",
   "metadata": {},
   "source": [
    "Imposing values for the interest rate and the psychological discount factor"
   ]
  },
  {
   "cell_type": "code",
   "execution_count": 11,
   "metadata": {},
   "outputs": [],
   "source": [
    "# Using Bover's estimates to calibrate the model\n",
    "# Based on Table 1, Column 2 Estimates/ adjusts for risk free rate and discount factor\n",
    "gamma_h = 1768.1516\n",
    "gamma_c = 4454.0084\n",
    "varphi = 0.2205\n",
    "rho = 0.08\n",
    "r = 0.02\n",
    "beta_const = 0.1845\n",
    "beta_children = -0.0238\n",
    "num_children=1.79 #this is the mean number of children (Table A1)\n",
    "B_1 = beta_const + beta_children*num_children\n",
    "B_2 = 1 - B_1\n",
    "\n",
    "sim_size=10000\n",
    "T=40\n",
    "\n",
    "\n",
    "factor = (1-(varphi/(1+r))**T)/(1-(varphi/(1+r)))\n",
    "w1plus = Wage *factor\n",
    "discount_factor = 1/(1+rho)\n",
    "first_part = (1-discount_factor) / (1-discount_factor**T)\n",
    "Rminus1 = 1/(1+r)\n",
    "second_part = (1 - Rminus1**T) / (1-Rminus1)\n",
    "lagrange_inverse = first_part*second_part * (gamma_h * w1plus - gamma_c)\n",
    "h1 = gamma_h - B_1/w1plus*lagrange_inverse\n",
    "c1 = gamma_c + B_2 * lagrange_inverse\n",
    "df2=pd.DataFrame({'wage':Wage, 'h1':h1, 'c1':c1})\n",
    "\n",
    "column_counter=2\n",
    "for i in range(T-1):\n",
    "    variable_name=\"h\"+str(column_counter)\n",
    "    previous_time=\"h\"+str(column_counter-1)\n",
    "    cons_name=\"c\"+str(column_counter)\n",
    "    column_counter+=1\n",
    "    factor = (1-(varphi/(1+r))**(T-i-1))/(1-(varphi/(1+r)))\n",
    "    w1plus = Wage *factor\n",
    "    discount_factor = 1/(1+rho)\n",
    "    first_part = (1-discount_factor) / (1-discount_factor**(T-i-1))\n",
    "    Rminus1 = 1/(1+r)\n",
    "    second_part = (1 - Rminus1**(T-i-1)) / (1-Rminus1)\n",
    "    lagrange_inverse = first_part*second_part * (gamma_h * w1plus - gamma_c + varphi*df2[previous_time]*w1plus)\n",
    "    h_next = gamma_h - B_1/w1plus*lagrange_inverse + varphi * df2[previous_time]\n",
    "    cons_next = gamma_c + B_2 * lagrange_inverse\n",
    "    df2[variable_name]=h_next\n",
    "    df2[cons_name]=cons_next"
   ]
  },
  {
   "cell_type": "code",
   "execution_count": 12,
   "metadata": {},
   "outputs": [
    {
     "data": {
      "image/png": "[encoded data removed]",
      "text/plain": [
       "<Figure size 432x288 with 1 Axes>"
      ]
     },
     "metadata": {
      "needs_background": "light"
     },
     "output_type": "display_data"
    }
   ],
   "source": [
    "mean_hours2=np.zeros(T)\n",
    "mean_cons2=np.zeros(T)\n",
    "for i in range(T):\n",
    "    j=i+1\n",
    "    var_name = \"h\"+str(j)\n",
    "    cons_name = \"c\"+str(j)\n",
    "    mean_hours2[i]=df2[var_name].mean()\n",
    "    mean_cons2[i]=df2[cons_name].mean()\n",
    "    \n",
    "plt.figure()\n",
    "plt.plot(mean_hours2)\n",
    "plt.xlim([1,40])\n",
    "plt.show()"
   ]
  },
  {
   "cell_type": "code",
   "execution_count": 13,
   "metadata": {},
   "outputs": [
    {
     "name": "stdout",
     "output_type": "stream",
     "text": [
      "1914.3220768802464\n"
     ]
    }
   ],
   "source": [
    "print(mean_hours2.mean())"
   ]
  },
  {
   "cell_type": "code",
   "execution_count": 14,
   "metadata": {},
   "outputs": [
    {
     "data": {
      "image/png": "[encoded data removed]",
      "text/plain": [
       "<Figure size 432x288 with 1 Axes>"
      ]
     },
     "metadata": {
      "needs_background": "light"
     },
     "output_type": "display_data"
    }
   ],
   "source": [
    "plt.figure()\n",
    "plt.plot(mean_cons2)\n",
    "plt.show()"
   ]
  },
  {
   "cell_type": "code",
   "execution_count": 15,
   "metadata": {},
   "outputs": [
    {
     "data": {
      "image/png": "[encoded data removed]",
      "text/plain": [
       "<Figure size 432x288 with 1 Axes>"
      ]
     },
     "metadata": {
      "needs_background": "light"
     },
     "output_type": "display_data"
    }
   ],
   "source": [
    "plt.figure()\n",
    "plt.plot(mean_hours, label=\"Bover calibration\")\n",
    "plt.plot(mean_hours2, label=\"Realistic Calibration\")\n",
    "plt.legend()\n",
    "plt.title('Labor Hours over the Life Cycle')\n",
    "plt.show()"
   ]
  },
  {
   "cell_type": "code",
   "execution_count": 16,
   "metadata": {},
   "outputs": [
    {
     "data": {
      "image/png": "[encoded data removed]",
      "text/plain": [
       "<Figure size 432x288 with 1 Axes>"
      ]
     },
     "metadata": {
      "needs_background": "light"
     },
     "output_type": "display_data"
    }
   ],
   "source": [
    "plt.figure()\n",
    "plt.plot(mean_consumption, label=\"Bover Calibration\")\n",
    "plt.plot(mean_cons2, label=\"Realistic Calibration\")\n",
    "plt.legend()\n",
    "plt.title('Average Consumption over the Life Cycle')\n",
    "plt.show()"
   ]
  },
  {
   "cell_type": "code",
   "execution_count": null,
   "metadata": {},
   "outputs": [],
   "source": []
  },
  {
   "cell_type": "code",
   "execution_count": null,
   "metadata": {},
   "outputs": [],
   "source": []
  },
  {
   "cell_type": "code",
   "execution_count": 17,
   "metadata": {},
   "outputs": [],
   "source": [
    "# Using Bover's estimates to calibrate the model\n",
    "# Based on Table 1, Column 1 Estimates\n",
    "#artificially imposing a lower habit values\n",
    "gamma_h = 1768.1516\n",
    "gamma_c = 4454.0084\n",
    "varphi = 0.1\n",
    "rho = 0.08\n",
    "r = 0.02\n",
    "beta_const = 0.1845\n",
    "beta_children = -0.0238\n",
    "num_children=1.79 #this is the mean number of children (Table A1)\n",
    "B_1 = beta_const + beta_children*num_children\n",
    "B_2 = 1 - B_1\n",
    "\n",
    "sim_size=10000\n",
    "T=40\n",
    "\n",
    "\n",
    "factor = (1-(varphi/(1+r))**T)/(1-(varphi/(1+r)))\n",
    "w1plus = Wage *factor\n",
    "discount_factor = 1/(1+rho)\n",
    "first_part = (1-discount_factor) / (1-discount_factor**T)\n",
    "Rminus1 = 1/(1+r)\n",
    "second_part = (1 - Rminus1**T) / (1-Rminus1)\n",
    "lagrange_inverse = first_part*second_part * (gamma_h * w1plus - gamma_c)\n",
    "h1 = gamma_h - B_1/w1plus*lagrange_inverse\n",
    "c1 = gamma_c + B_2 * lagrange_inverse\n",
    "df3=pd.DataFrame({'wage':Wage, 'h1':h1, 'c1':c1})\n",
    "\n",
    "column_counter=2\n",
    "for i in range(T-1):\n",
    "    variable_name=\"h\"+str(column_counter)\n",
    "    previous_time=\"h\"+str(column_counter-1)\n",
    "    cons_name=\"c\"+str(column_counter)\n",
    "    column_counter+=1\n",
    "    factor = (1-(varphi/(1+r))**(T-i-1))/(1-(varphi/(1+r)))\n",
    "    w1plus = Wage *factor\n",
    "    discount_factor = 1/(1+rho)\n",
    "    first_part = (1-discount_factor) / (1-discount_factor**(T-i-1))\n",
    "    Rminus1 = 1/(1+r)\n",
    "    second_part = (1 - Rminus1**(T-i-1)) / (1-Rminus1)\n",
    "    lagrange_inverse = first_part*second_part * (gamma_h * w1plus - gamma_c + varphi*df3[previous_time]*w1plus)\n",
    "    h_next = gamma_h - B_1/w1plus*lagrange_inverse + varphi * df3[previous_time]\n",
    "    cons_next = gamma_c + B_2 * lagrange_inverse\n",
    "    df3[variable_name]=h_next\n",
    "    df3[cons_name]=cons_next"
   ]
  },
  {
   "cell_type": "code",
   "execution_count": null,
   "metadata": {},
   "outputs": [],
   "source": []
  },
  {
   "cell_type": "code",
   "execution_count": 18,
   "metadata": {},
   "outputs": [
    {
     "data": {
      "image/png": "[encoded data removed]",
      "text/plain": [
       "<Figure size 432x288 with 1 Axes>"
      ]
     },
     "metadata": {
      "needs_background": "light"
     },
     "output_type": "display_data"
    }
   ],
   "source": [
    "mean_hours3=np.zeros(T)\n",
    "mean_cons3=np.zeros(T)\n",
    "for i in range(T):\n",
    "    j=i+1\n",
    "    var_name = \"h\"+str(j)\n",
    "    cons_name = \"c\"+str(j)\n",
    "    mean_hours3[i]=df3[var_name].mean()\n",
    "    mean_cons3[i]=df3[cons_name].mean()\n",
    "    \n",
    "plt.figure()\n",
    "plt.plot(mean_hours3)\n",
    "plt.xlim([1,40])\n",
    "plt.show()"
   ]
  },
  {
   "cell_type": "code",
   "execution_count": null,
   "metadata": {},
   "outputs": [],
   "source": []
  },
  {
   "cell_type": "code",
   "execution_count": null,
   "metadata": {},
   "outputs": [],
   "source": []
  },
  {
   "cell_type": "code",
   "execution_count": 33,
   "metadata": {},
   "outputs": [
    {
     "data": {
      "image/png": "[encoded data removed]",
      "text/plain": [
       "<Figure size 432x288 with 1 Axes>"
      ]
     },
     "metadata": {
      "needs_background": "light"
     },
     "output_type": "display_data"
    }
   ],
   "source": [
    "plt.figure()\n",
    "plt.plot(mean_consumption, label=\"Bover Calibration\")\n",
    "plt.plot(mean_cons2, label=\"Realistic Calibration\")\n",
    "plt.plot(mean_cons3, label=\"Counterfactual\")\n",
    "plt.legend()\n",
    "plt.title('Average Consumption over the Life Cycle')\n",
    "plt.savefig('Figures/consumption_lc.png', dpi=600)\n",
    "plt.show()"
   ]
  },
  {
   "cell_type": "code",
   "execution_count": 32,
   "metadata": {},
   "outputs": [
    {
     "data": {
      "image/png": "[encoded data removed]",
      "text/plain": [
       "<Figure size 432x288 with 1 Axes>"
      ]
     },
     "metadata": {
      "needs_background": "light"
     },
     "output_type": "display_data"
    }
   ],
   "source": [
    "plt.figure()\n",
    "plt.plot(mean_hours, label=\"Bover Calibration\")\n",
    "plt.plot(mean_hours2, label=\"Realistic Calibration\")\n",
    "plt.plot(mean_hours3, label='Counterfactual')\n",
    "plt.legend()\n",
    "plt.title('Average Labor Hours over the Life Cycle')\n",
    "plt.savefig('Figures/hours_lc.png', dpi=600)\n",
    "plt.show()"
   ]
  },
  {
   "cell_type": "markdown",
   "metadata": {},
   "source": [
    "Let's try calculating some elasticities.\n",
    "The basic elasticity given is\n",
    "$$\\epsilon_{it} = \\frac{w}{h}\\frac{\\partial h}{\\partial w} $$\n",
    "The authors use the following approximation:\n",
    "$$\\epsilon = \\frac{\\gamma_h +\\varphi h_{i,t-1}}{h_{i,t}} -1 $$"
   ]
  },
  {
   "cell_type": "markdown",
   "metadata": {},
   "source": [
    "Evaluating at the sample means using the Bover calibrations, we get"
   ]
  },
  {
   "cell_type": "code",
   "execution_count": 21,
   "metadata": {},
   "outputs": [],
   "source": [
    "def epsilon_calc(var, gamma_h=gamma_h, varphi=varphi):\n",
    "    epsilon = (gamma_h +varphi *var[0:T-1].mean())/var.mean()-1\n",
    "    return(epsilon)\n",
    "def eta_alph_calc(hour_var, b1=B_1, gamma_h=gamma_h, r=r, varphi=varphi, alpha=Wage, wage=Wage):\n",
    "    eta_alpha = (-1)*b1 *(gamma_h + varphi*r*hour_var[1:T-1].mean()/(1+r))*alpha.mean()/wage.mean()/hour_var.mean()\n",
    "    return(eta_alpha)\n",
    "#in this setting eta_delta does not matter since the wage is not changing for individuals"
   ]
  },
  {
   "cell_type": "code",
   "execution_count": 22,
   "metadata": {},
   "outputs": [],
   "source": [
    "epsilon=epsilon_calc(mean_hours, varphi=0.2205)\n",
    "epsilon2=epsilon_calc(mean_hours2, varphi=0.2205)\n",
    "epsilon3=epsilon_calc(mean_hours3, varphi=0.1)\n",
    "eta1=eta_alph_calc(mean_hours, r=0.2429, varphi=0.2205)\n",
    "eta2=eta_alph_calc(mean_hours2, r=0.02, varphi=0.2205)\n",
    "eta3=eta_alph_calc(mean_hours3, r=0.02, varphi=0.1)"
   ]
  },
  {
   "cell_type": "code",
   "execution_count": 23,
   "metadata": {},
   "outputs": [
    {
     "data": {
      "text/html": [
       "<div>\n",
       "<style scoped>\n",
       "    .dataframe tbody tr th:only-of-type {\n",
       "        vertical-align: middle;\n",
       "    }\n",
       "\n",
       "    .dataframe tbody tr th {\n",
       "        vertical-align: top;\n",
       "    }\n",
       "\n",
       "    .dataframe thead th {\n",
       "        text-align: right;\n",
       "    }\n",
       "</style>\n",
       "<table border=\"1\" class=\"dataframe\">\n",
       "  <thead>\n",
       "    <tr style=\"text-align: right;\">\n",
       "      <th></th>\n",
       "      <th>epsilons</th>\n",
       "      <th>etas</th>\n",
       "    </tr>\n",
       "    <tr>\n",
       "      <th>Simulation</th>\n",
       "      <th></th>\n",
       "      <th></th>\n",
       "    </tr>\n",
       "  </thead>\n",
       "  <tbody>\n",
       "    <tr>\n",
       "      <th>Original</th>\n",
       "      <td>0.086136</td>\n",
       "      <td>-0.128990</td>\n",
       "    </tr>\n",
       "    <tr>\n",
       "      <th>Realistic</th>\n",
       "      <td>0.143644</td>\n",
       "      <td>-0.131679</td>\n",
       "    </tr>\n",
       "    <tr>\n",
       "      <th>Counterfactual</th>\n",
       "      <td>0.104080</td>\n",
       "      <td>-0.142775</td>\n",
       "    </tr>\n",
       "  </tbody>\n",
       "</table>\n",
       "</div>"
      ],
      "text/plain": [
       "                epsilons      etas\n",
       "Simulation                        \n",
       "Original        0.086136 -0.128990\n",
       "Realistic       0.143644 -0.131679\n",
       "Counterfactual  0.104080 -0.142775"
      ]
     },
     "execution_count": 23,
     "metadata": {},
     "output_type": "execute_result"
    }
   ],
   "source": [
    "epsilons = [epsilon, epsilon2, epsilon3]\n",
    "etas=[eta1,eta2,eta3]\n",
    "simulation=['Original', \"Realistic\", \"Counterfactual\"]\n",
    "elast = pd.DataFrame({'Simulation':simulation,'epsilons':epsilons, 'etas':etas})\n",
    "elast=elast.set_index('Simulation')\n",
    "elast.head()"
   ]
  },
  {
   "cell_type": "code",
   "execution_count": 25,
   "metadata": {},
   "outputs": [],
   "source": [
    "elast.to_latex('Tables/elast_table.tex', header=['$\\epsilon$', '$\\eta^{\\\\alpha}$'], escape=False, float_format='%.4f', label='tab:elasts', caption='Simulated Elasticities')"
   ]
  },
  {
   "cell_type": "code",
   "execution_count": 26,
   "metadata": {},
   "outputs": [
    {
     "data": {
      "text/html": [
       "<div>\n",
       "<style scoped>\n",
       "    .dataframe tbody tr th:only-of-type {\n",
       "        vertical-align: middle;\n",
       "    }\n",
       "\n",
       "    .dataframe tbody tr th {\n",
       "        vertical-align: top;\n",
       "    }\n",
       "\n",
       "    .dataframe thead th {\n",
       "        text-align: right;\n",
       "    }\n",
       "</style>\n",
       "<table border=\"1\" class=\"dataframe\">\n",
       "  <thead>\n",
       "    <tr style=\"text-align: right;\">\n",
       "      <th></th>\n",
       "      <th>gamma_h</th>\n",
       "      <th>gamma_c</th>\n",
       "      <th>varphi</th>\n",
       "      <th>rho</th>\n",
       "      <th>r</th>\n",
       "    </tr>\n",
       "    <tr>\n",
       "      <th>Simulation</th>\n",
       "      <th></th>\n",
       "      <th></th>\n",
       "      <th></th>\n",
       "      <th></th>\n",
       "      <th></th>\n",
       "    </tr>\n",
       "  </thead>\n",
       "  <tbody>\n",
       "    <tr>\n",
       "      <th>Original</th>\n",
       "      <td>1768.1516</td>\n",
       "      <td>4454.0084</td>\n",
       "      <td>0.2205</td>\n",
       "      <td>0.2429</td>\n",
       "      <td>0.2429</td>\n",
       "    </tr>\n",
       "    <tr>\n",
       "      <th>Realistic</th>\n",
       "      <td>1768.1516</td>\n",
       "      <td>4454.0084</td>\n",
       "      <td>0.2205</td>\n",
       "      <td>0.0800</td>\n",
       "      <td>0.0200</td>\n",
       "    </tr>\n",
       "    <tr>\n",
       "      <th>Counterfactual</th>\n",
       "      <td>1768.1516</td>\n",
       "      <td>4454.0084</td>\n",
       "      <td>0.1000</td>\n",
       "      <td>0.0800</td>\n",
       "      <td>0.0200</td>\n",
       "    </tr>\n",
       "  </tbody>\n",
       "</table>\n",
       "</div>"
      ],
      "text/plain": [
       "                  gamma_h    gamma_c  varphi     rho       r\n",
       "Simulation                                                  \n",
       "Original        1768.1516  4454.0084  0.2205  0.2429  0.2429\n",
       "Realistic       1768.1516  4454.0084  0.2205  0.0800  0.0200\n",
       "Counterfactual  1768.1516  4454.0084  0.1000  0.0800  0.0200"
      ]
     },
     "execution_count": 26,
     "metadata": {},
     "output_type": "execute_result"
    }
   ],
   "source": [
    "calibrations=pd.DataFrame({\"Simulation\":simulation, \"gamma_h\":[gamma_h, gamma_h, gamma_h], \"gamma_c\":[gamma_c, gamma_c, gamma_c],\"varphi\":[0.2205, 0.2205, 0.1], \"rho\":[0.2429, 0.08, 0.08], \"r\":[0.2429,0.02,0.02]})\n",
    "calibrations=calibrations.set_index('Simulation')\n",
    "calibrations.head()"
   ]
  },
  {
   "cell_type": "code",
   "execution_count": 30,
   "metadata": {},
   "outputs": [],
   "source": [
    "calibrations.to_latex('Tables/calibration_table.tex', header=['$\\gamma_h$', '$\\gamma_c$', \"$\\\\varphi$\", \"$\\\\rho$\", 'r'], escape=False, float_format='%.4f', label='tab:calibs', caption='Calibrated Parameters')"
   ]
  },
  {
   "cell_type": "code",
   "execution_count": null,
   "metadata": {},
   "outputs": [],
   "source": []
  }
 ],
 "metadata": {
  "kernelspec": {
   "display_name": "Python 3",
   "language": "python",
   "name": "python3"
  },
  "language_info": {
   "codemirror_mode": {
    "name": "ipython",
    "version": 3
   },
   "file_extension": ".py",
   "mimetype": "text/x-python",
   "name": "python",
   "nbconvert_exporter": "python",
   "pygments_lexer": "ipython3",
   "version": "3.8.5"
  }
 },
 "nbformat": 4,
 "nbformat_minor": 4
}
