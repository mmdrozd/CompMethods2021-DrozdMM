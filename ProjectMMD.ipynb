{
 "cells": [
  {
   "cell_type": "markdown",
   "metadata": {},
   "source": [
    "# Some simulations of Habits in Labor Supply"
   ]
  },
  {
   "cell_type": "code",
   "execution_count": 1,
   "metadata": {},
   "outputs": [],
   "source": [
    "import matplotlib.pyplot as plt\n",
    "import numpy as np\n",
    "import pandas as pd "
   ]
  },
  {
   "cell_type": "code",
   "execution_count": 2,
   "metadata": {
    "tags": []
   },
   "outputs": [],
   "source": [
    "# Import required HARK tools\n",
    "from HARK import __version__ as HARKversion\n",
    "from HARK.utilities import (\n",
    "    plot_funcs, find_gui, make_figs, determine_platform,\n",
    "    test_latex_installation, setup_latex_env_notebook)\n",
    "#from HARK.ConsumptionSaving.ConsIndShockModel import (\n",
    "#    PerfForesightConsumerType, IndShockConsumerType, init_perfect_foresight, init_idiosyncratic_shocks)\n",
    "\n",
    "\n",
    "# Whether to save the figures to Figures_dir\n",
    "saveFigs = True\n",
    "\n",
    "# Whether to draw the figures\n",
    "drawFigs = True\n",
    "\n",
    "pf = determine_platform() # latex checking depends on platform\n",
    "try: # test whether latex is installed on command line \n",
    "    latexExists = test_latex_installation(pf)\n",
    "except ImportError:  # windows and MacOS requires manual latex install\n",
    "    latexExists = False\n",
    "\n",
    "setup_latex_env_notebook(pf, latexExists)\n",
    "\n",
    "# check if GUI is present; if not then switch drawFigs to False and force saveFigs to be True\n",
    "if not find_gui():\n",
    "    drawFigs, saveFigs = False, True\n",
    "\n",
    "# Font sizes for figures\n",
    "fssml, fsmid, fsbig = 18, 22, 26\n",
    "\n",
    "def makeFig(figure_name, target_dir=\"./Figures\"):\n",
    "    print('')\n",
    "    make_figs(figure_name, saveFigs, drawFigs, target_dir)\n",
    "    print('')"
   ]
  },
  {
   "cell_type": "markdown",
   "metadata": {},
   "source": [
    "Here is some text describing the rational habits model of labor supply with non-separable preferences. It is non-separable in terms of labor, but it is indeed separable in terms of labor supply and consumption."
   ]
  },
  {
   "cell_type": "code",
   "execution_count": 3,
   "metadata": {},
   "outputs": [],
   "source": [
    "# Using Bover's estimates to calibrate the model\n",
    "# Based on Table 1, Column 2 Estimates\n",
    "#Aside from the T, this block of code is obsolete, but I am keeping it here in case I need it for the future\n",
    "gamma_h = 1768.1516\n",
    "gamma_c = 4454.0084\n",
    "varphi = 0.2205\n",
    "rho = 0.2429\n",
    "r = 0.2429\n",
    "beta_const = 0.1845\n",
    "beta_children = -0.0238\n",
    "num_children=1.79 #this is the mean number of children (Table A1)\n",
    "B_1 = beta_const + beta_children*num_children\n",
    "B_2 = 1 - B_1\n",
    "\n",
    "#sim_size=10000\n",
    "T=40"
   ]
  },
  {
   "cell_type": "code",
   "execution_count": 4,
   "metadata": {},
   "outputs": [],
   "source": [
    "np.random.seed(1126)\n",
    "#Wages based on summary stats table\n",
    "mean_wage= 4.66\n",
    "sd_wage = 2.72\n",
    "#Wage = np.random.normal(mean_wage, sd_wage,sim_size)\n",
    "#Wage[Wage<=1.60]=1.60 #Setting the lower wages equal to min wage\n",
    "Wage=mean_wage #let's just do a simulation for a single person at the moment"
   ]
  },
  {
   "cell_type": "code",
   "execution_count": 5,
   "metadata": {},
   "outputs": [],
   "source": [
    "def life_cycle(gamma_h, gamma_c, varphi, rho, r, beta_const=0.1845, beta_children=-0.0238, num_children=1.79, Wage=4.66, T=40, assets=0):\n",
    "#should solve everything with a single function\n",
    "    B_1 = beta_const + beta_children*num_children\n",
    "    B_2 = 1 - B_1\n",
    "    \n",
    "    #trying to properly calculate lagrage multiplier for period 1 (Equation 8)\n",
    "    phiR=varphi/(1+r)\n",
    "    discount_factor = 1/(1+rho)\n",
    "    first_part = (1-discount_factor) / (1-discount_factor**T)\n",
    "    Rminus1 = 1/(1+r)\n",
    "    \n",
    "    #Here is the second part of the lagrange multiplier in equation 8\n",
    "    wp = lambda factor, time: (1-factor**time)/(1-factor)\n",
    "    all_ts = np.arange(T,0,-1)\n",
    "    wplus_factor = wp(phiR, all_ts)\n",
    "    wplus = wplus_factor*Wage\n",
    "    all_ts_forward = np.arange(0,T)\n",
    "    R_array=Rminus1**all_ts_forward\n",
    "    second_part=sum(R_array*(gamma_h*wplus-gamma_c)) +assets\n",
    "    lagrange_inverse=first_part*second_part\n",
    "\n",
    "    cons1=gamma_c+B_2 * lagrange_inverse\n",
    "    h1=gamma_h - B_1/(wplus[0])*lagrange_inverse\n",
    "    \n",
    "    \n",
    "    #now calculating a similar thing for the other periods\n",
    "    hours=[h1]\n",
    "    consumption=[cons1]\n",
    "    bank_balance = [assets]\n",
    "    b2 = (h1*Wage+assets-cons1)*(1+r)\n",
    "    bank_balance.append(b2)\n",
    "    first_p = lambda factor, time : (1-factor)/(1-factor**time)\n",
    "    for i in range(T-1):\n",
    "        first_part=first_p(discount_factor, T-i-1)\n",
    "        second_part=sum(R_array[0:T-1-i]*(gamma_h*wplus[i+1:]-gamma_c))+bank_balance[i+1]+varphi*hours[i]*wplus[i+1]\n",
    "        lagrange_inverse=first_part*second_part\n",
    "\n",
    "        consumption.append(gamma_c+B_2 * lagrange_inverse)\n",
    "        hours.append(gamma_h - B_1/(wplus[i+1])*lagrange_inverse+varphi*hours[i])\n",
    "        bank_balance.append((hours[i+1]*Wage+bank_balance[i+1] - consumption[i+1])*(1+r))\n",
    "    \n",
    "    return consumption, hours, bank_balance"
   ]
  },
  {
   "cell_type": "code",
   "execution_count": 6,
   "metadata": {},
   "outputs": [],
   "source": [
    "#calibration for first original\n",
    "gamma_h1 = 1768.1516\n",
    "gamma_c1 = 4454.0084\n",
    "varphi1 = 0.2205\n",
    "rho1 = 0.2429\n",
    "r1 = 0.2429\n",
    "\n",
    "\n",
    "#realistic I rho2 > r2\n",
    "gamma_h2 = 1768.1516\n",
    "gamma_c2 = 4454.0084\n",
    "varphi2 = 0.2205\n",
    "rho2 = 0.08\n",
    "r2 = 0.02\n",
    "\n",
    "#realistic II rho3<r3\n",
    "gamma_h3 = 1768.1516\n",
    "gamma_c3 = 4454.0084\n",
    "varphi3 = 0.3\n",
    "rho3 = 0.01\n",
    "r3 = 0.02\n",
    "\n",
    "#no habit (otherwise realistic I)\n",
    "gamma_h4 = 1768.1516\n",
    "gamma_c4 = 4454.0084\n",
    "varphi4 = 0.0\n",
    "rho4 = 0.08\n",
    "r4 = 0.02\n",
    "\n",
    "\n",
    "#just testing out with different asset values\n",
    "start_bb=100\n",
    "\n",
    "c,h,b = life_cycle(gamma_h=gamma_h1, gamma_c=gamma_c1, varphi=varphi1, rho=rho1, r=r1, assets=start_bb)\n",
    "c2,h2,b2=life_cycle(gamma_h=gamma_h2, gamma_c=gamma_c2, varphi=varphi2, rho=rho2, r=r2, assets=start_bb)\n",
    "c3, h3, b3=life_cycle(gamma_h=gamma_h3, gamma_c=gamma_c3, varphi=varphi3, rho=rho3, r=r3, assets=start_bb)\n",
    "c4,h4,b4 = life_cycle(gamma_h=gamma_h4, gamma_c=gamma_c4, varphi=varphi4, rho=rho4, r=r4, assets=start_bb)"
   ]
  },
  {
   "cell_type": "code",
   "execution_count": 7,
   "metadata": {},
   "outputs": [
    {
     "name": "stdout",
     "output_type": "stream",
     "text": [
      "\n",
      "Saving figure consumption_lc in ./Figures\n"
     ]
    },
    {
     "data": {
      "image/png": "[encoded data removed]",
      "text/plain": [
       "<Figure size 432x288 with 1 Axes>"
      ]
     },
     "metadata": {
      "needs_background": "light"
     },
     "output_type": "display_data"
    },
    {
     "name": "stdout",
     "output_type": "stream",
     "text": [
      "\n"
     ]
    }
   ],
   "source": [
    "plt.figure()\n",
    "plt.plot(c, label='Original')\n",
    "plt.plot(c2, label='Realistic I')\n",
    "plt.plot(c3, label='Realistic II')\n",
    "plt.plot(c4, label='No Habit')\n",
    "plt.legend()\n",
    "plt.title('Consumption over the Life Cycle')\n",
    "#plt.savefig('Figures/consumption_lc.png', dpi=600)\n",
    "#plt.show()\n",
    "makeFig('consumption_lc')"
   ]
  },
  {
   "cell_type": "code",
   "execution_count": 8,
   "metadata": {},
   "outputs": [
    {
     "name": "stdout",
     "output_type": "stream",
     "text": [
      "\n",
      "Saving figure hours_lc in ./Figures\n"
     ]
    },
    {
     "data": {
      "image/png": "[encoded data removed]",
      "text/plain": [
       "<Figure size 432x288 with 1 Axes>"
      ]
     },
     "metadata": {
      "needs_background": "light"
     },
     "output_type": "display_data"
    },
    {
     "name": "stdout",
     "output_type": "stream",
     "text": [
      "\n"
     ]
    }
   ],
   "source": [
    "plt.figure()\n",
    "plt.plot(h, label='Original')\n",
    "plt.plot(h2, label='Realistic I')\n",
    "plt.plot(h3, label='Realistic II')\n",
    "plt.plot(h4, label='No Habit')\n",
    "plt.legend()\n",
    "plt.title('Labor Hours over the Life Cycle')\n",
    "#plt.savefig('Figures/hours_lc.png', dpi=600)\n",
    "#plt.show()\n",
    "makeFig('hours_lc')"
   ]
  },
  {
   "cell_type": "code",
   "execution_count": 9,
   "metadata": {},
   "outputs": [
    {
     "data": {
      "text/plain": [
       "Text(0.5, 1.0, 'Bank Balances over the Life Cycle')"
      ]
     },
     "execution_count": 9,
     "metadata": {},
     "output_type": "execute_result"
    },
    {
     "data": {
      "image/png": "[encoded data removed]",
      "text/plain": [
       "<Figure size 432x288 with 1 Axes>"
      ]
     },
     "metadata": {
      "needs_background": "light"
     },
     "output_type": "display_data"
    }
   ],
   "source": [
    "plt.figure()\n",
    "plt.plot(b, label='Original')\n",
    "plt.plot(b2, label='Realistic I')\n",
    "plt.plot(b3, label='Realistic II')\n",
    "plt.plot(b4, label='No Habit')\n",
    "plt.legend()\n",
    "plt.title('Bank Balances over the Life Cycle')\n",
    "#plt.show()"
   ]
  },
  {
   "cell_type": "code",
   "execution_count": null,
   "metadata": {},
   "outputs": [],
   "source": []
  },
  {
   "cell_type": "markdown",
   "metadata": {},
   "source": [
    "Let's try calculating some elasticities.\n",
    "The basic elasticity given is\n",
    "$$\\epsilon_{it} = \\frac{w}{h}\\frac{\\partial h}{\\partial w} $$\n",
    "The authors use the following approximation:\n",
    "$$\\epsilon = \\frac{\\gamma_h +\\varphi h_{i,t-1}}{h_{i,t}} -1 $$"
   ]
  },
  {
   "cell_type": "markdown",
   "metadata": {},
   "source": [
    "Evaluating at the sample means using the Bover calibrations, we get"
   ]
  },
  {
   "cell_type": "code",
   "execution_count": 10,
   "metadata": {},
   "outputs": [],
   "source": [
    "def epsilon_calc(var, gamma_h=gamma_h, varphi=varphi):\n",
    "    epsilon = (gamma_h +varphi *np.mean(var[0:T-1]))/np.mean(var)-1\n",
    "    return epsilon\n",
    "\n",
    "def eta_alph_calc(hour_var, b1=B_1, gamma_h=gamma_h, r=r, varphi=varphi, alpha=Wage, wage=Wage):\n",
    "    eta_alpha = (-1)*b1 *(gamma_h + varphi*r*np.mean(hour_var[1:T-1])/(1+r))*alpha/wage/np.mean(hour_var)\n",
    "    return eta_alpha\n",
    "#in this setting eta_delta does not matter since the wage is not changing for individuals"
   ]
  },
  {
   "cell_type": "code",
   "execution_count": 11,
   "metadata": {},
   "outputs": [],
   "source": [
    "epsilon=epsilon_calc(h, varphi=varphi1)\n",
    "epsilon2=epsilon_calc(h2, varphi=varphi2)\n",
    "epsilon3=epsilon_calc(h3, varphi=varphi3)\n",
    "epsilon4=epsilon_calc(h4, varphi=varphi4)\n",
    "eta1=eta_alph_calc(h, r=r1, varphi=varphi1)\n",
    "eta2=eta_alph_calc(h2, r=r2, varphi=varphi2)\n",
    "eta3=eta_alph_calc(h3, r=r3, varphi=varphi3)\n",
    "eta4=eta_alph_calc(h4, r=r4, varphi=varphi4)"
   ]
  },
  {
   "cell_type": "code",
   "execution_count": 12,
   "metadata": {},
   "outputs": [
    {
     "data": {
      "text/html": [
       "<div>\n",
       "<style scoped>\n",
       "    .dataframe tbody tr th:only-of-type {\n",
       "        vertical-align: middle;\n",
       "    }\n",
       "\n",
       "    .dataframe tbody tr th {\n",
       "        vertical-align: top;\n",
       "    }\n",
       "\n",
       "    .dataframe thead th {\n",
       "        text-align: right;\n",
       "    }\n",
       "</style>\n",
       "<table border=\"1\" class=\"dataframe\">\n",
       "  <thead>\n",
       "    <tr style=\"text-align: right;\">\n",
       "      <th></th>\n",
       "      <th>epsilons</th>\n",
       "      <th>etas</th>\n",
       "    </tr>\n",
       "    <tr>\n",
       "      <th>Simulation</th>\n",
       "      <th></th>\n",
       "      <th></th>\n",
       "    </tr>\n",
       "  </thead>\n",
       "  <tbody>\n",
       "    <tr>\n",
       "      <th>Original</th>\n",
       "      <td>0.073384</td>\n",
       "      <td>-0.127167</td>\n",
       "    </tr>\n",
       "    <tr>\n",
       "      <th>Realistic</th>\n",
       "      <td>0.065760</td>\n",
       "      <td>-0.120606</td>\n",
       "    </tr>\n",
       "    <tr>\n",
       "      <th>Counterfactual</th>\n",
       "      <td>0.065984</td>\n",
       "      <td>-0.109604</td>\n",
       "    </tr>\n",
       "    <tr>\n",
       "      <th>No Habit</th>\n",
       "      <td>0.060620</td>\n",
       "      <td>-0.150500</td>\n",
       "    </tr>\n",
       "  </tbody>\n",
       "</table>\n",
       "</div>"
      ],
      "text/plain": [
       "                epsilons      etas\n",
       "Simulation                        \n",
       "Original        0.073384 -0.127167\n",
       "Realistic       0.065760 -0.120606\n",
       "Counterfactual  0.065984 -0.109604\n",
       "No Habit        0.060620 -0.150500"
      ]
     },
     "execution_count": 12,
     "metadata": {},
     "output_type": "execute_result"
    }
   ],
   "source": [
    "epsilons = [epsilon, epsilon2, epsilon3, epsilon4]\n",
    "etas=[eta1,eta2,eta3, eta4]\n",
    "simulation=['Original', \"Realistic I\", \"Realsitic II\", \"No Habit\"]\n",
    "elast = pd.DataFrame({'Simulation':simulation,'epsilons':epsilons, 'etas':etas})\n",
    "elast=elast.set_index('Simulation')\n",
    "elast.head()"
   ]
  },
  {
   "cell_type": "code",
   "execution_count": 13,
   "metadata": {},
   "outputs": [],
   "source": [
    "elast.to_latex('Tables/elast_table.tex', header=['$\\epsilon$', '$\\eta^{\\\\alpha}$'], escape=False, float_format='%.4f', label='tab:elasts', caption='Simulated Elasticities')"
   ]
  },
  {
   "cell_type": "code",
   "execution_count": 14,
   "metadata": {},
   "outputs": [
    {
     "data": {
      "text/html": [
       "<div>\n",
       "<style scoped>\n",
       "    .dataframe tbody tr th:only-of-type {\n",
       "        vertical-align: middle;\n",
       "    }\n",
       "\n",
       "    .dataframe tbody tr th {\n",
       "        vertical-align: top;\n",
       "    }\n",
       "\n",
       "    .dataframe thead th {\n",
       "        text-align: right;\n",
       "    }\n",
       "</style>\n",
       "<table border=\"1\" class=\"dataframe\">\n",
       "  <thead>\n",
       "    <tr style=\"text-align: right;\">\n",
       "      <th></th>\n",
       "      <th>gamma_h</th>\n",
       "      <th>gamma_c</th>\n",
       "      <th>varphi</th>\n",
       "      <th>rho</th>\n",
       "      <th>r</th>\n",
       "    </tr>\n",
       "    <tr>\n",
       "      <th>Simulation</th>\n",
       "      <th></th>\n",
       "      <th></th>\n",
       "      <th></th>\n",
       "      <th></th>\n",
       "      <th></th>\n",
       "    </tr>\n",
       "  </thead>\n",
       "  <tbody>\n",
       "    <tr>\n",
       "      <th>Original</th>\n",
       "      <td>1768.1516</td>\n",
       "      <td>4454.0084</td>\n",
       "      <td>0.2205</td>\n",
       "      <td>0.2429</td>\n",
       "      <td>0.2429</td>\n",
       "    </tr>\n",
       "    <tr>\n",
       "      <th>Realistic</th>\n",
       "      <td>1768.1516</td>\n",
       "      <td>4454.0084</td>\n",
       "      <td>0.2205</td>\n",
       "      <td>0.0800</td>\n",
       "      <td>0.0200</td>\n",
       "    </tr>\n",
       "    <tr>\n",
       "      <th>Counterfactual</th>\n",
       "      <td>1768.1516</td>\n",
       "      <td>4454.0084</td>\n",
       "      <td>0.3000</td>\n",
       "      <td>0.0800</td>\n",
       "      <td>0.0200</td>\n",
       "    </tr>\n",
       "    <tr>\n",
       "      <th>No Habit</th>\n",
       "      <td>1768.1516</td>\n",
       "      <td>4454.0084</td>\n",
       "      <td>0.0000</td>\n",
       "      <td>0.0800</td>\n",
       "      <td>0.0200</td>\n",
       "    </tr>\n",
       "  </tbody>\n",
       "</table>\n",
       "</div>"
      ],
      "text/plain": [
       "                  gamma_h    gamma_c  varphi     rho       r\n",
       "Simulation                                                  \n",
       "Original        1768.1516  4454.0084  0.2205  0.2429  0.2429\n",
       "Realistic       1768.1516  4454.0084  0.2205  0.0800  0.0200\n",
       "Counterfactual  1768.1516  4454.0084  0.3000  0.0800  0.0200\n",
       "No Habit        1768.1516  4454.0084  0.0000  0.0800  0.0200"
      ]
     },
     "execution_count": 14,
     "metadata": {},
     "output_type": "execute_result"
    }
   ],
   "source": [
    "calibrations=pd.DataFrame({\"Simulation\":simulation, \"gamma_h\":[gamma_h1, gamma_h2, gamma_h3, gamma_h4], \"gamma_c\":[gamma_c1, gamma_c2, gamma_c3, gamma_c4],\"varphi\":[varphi1, varphi2, varphi3, varphi4], \"rho\":[rho1, rho2, rho3, rho4], \"r\":[r1,r2,r3,r4]})\n",
    "calibrations=calibrations.set_index('Simulation')\n",
    "calibrations.head()"
   ]
  },
  {
   "cell_type": "code",
   "execution_count": 15,
   "metadata": {},
   "outputs": [],
   "source": [
    "calibrations.to_latex('Tables/calibration_table.tex', header=['$\\gamma_h$', '$\\gamma_c$', \"$\\\\varphi$\", \"$\\\\rho$\", 'r'], escape=False, float_format='%.4f', label='tab:calibs', caption='Calibrated Parameters')"
   ]
  },
  {
   "cell_type": "code",
   "execution_count": 16,
   "metadata": {},
   "outputs": [
    {
     "name": "stdout",
     "output_type": "stream",
     "text": [
      "[9243.98126498274, 9243.98126498274, 9243.981264982742, 9243.981264982744, 9243.981264982744, 9243.981264982744, 9243.981264982744, 9243.981264982744, 9243.981264982744, 9243.981264982744, 9243.981264982747, 9243.981264982744, 9243.981264982744, 9243.981264982744, 9243.981264982744, 9243.981264982745, 9243.981264982747, 9243.981264982745, 9243.981264982747, 9243.981264982745, 9243.981264982745, 9243.981264982747, 9243.981264982745, 9243.981264982747, 9243.981264982744, 9243.981264982745, 9243.981264982744, 9243.981264982747, 9243.981264982744, 9243.981264982744, 9243.981264982744, 9243.981264982744, 9243.981264982744, 9243.981264982744, 9243.981264982744, 9243.981264982742, 9243.981264982744, 9243.98126498274, 9243.98126498274, 9243.981264982742]\n"
     ]
    }
   ],
   "source": [
    "#Test to make sure that we have the correct answers:\n",
    "#the consumption ratio should be the same:\n",
    "print(c)"
   ]
  },
  {
   "cell_type": "code",
   "execution_count": 17,
   "metadata": {},
   "outputs": [],
   "source": [
    "ct=c[0:len(c)-1]\n",
    "ctplus1=c[1:len(c)]\n",
    "df1=pd.DataFrame({'ct':ct, 'ctplus1':ctplus1})\n",
    "df1['gamma_c']=gamma_c1\n",
    "df1['ratio']=(df1['ct']-df1['gamma_c'])/(df1['ctplus1']-df1['gamma_c'])\n",
    "\n",
    "\n",
    "c2t=c2[0:len(c2)-1]\n",
    "c2tplus1=c2[1:len(c2)]\n",
    "df2=pd.DataFrame({'ct':c2t, 'ctplus1':c2tplus1})\n",
    "df2['gamma_c']=gamma_c2\n",
    "df2['ratio'] = (df2['ct']-df2['gamma_c'])/(df2['ctplus1']-df2['gamma_c'])\n",
    "\n",
    "c3t=c3[0:len(c3)-1]\n",
    "c3tplus1=c3[1:len(c3)]\n",
    "df3=pd.DataFrame({'ct':c3t, 'ctplus1':c3tplus1})\n",
    "df3['gamma_c']=gamma_c3\n",
    "df3['ratio']=(df3['ct']-df3['gamma_c'])/(df3['ctplus1']-df3['gamma_c'])\n",
    "\n",
    "\n",
    "c4t=c4[0:len(c4)-1]\n",
    "c4tplus1=c4[1:len(c4)]\n",
    "df4=pd.DataFrame({'ct': c4t, 'ctplus1':c4tplus1})\n",
    "df4['gamma_c']=gamma_c4\n",
    "df4['ratio'] = (df4['ct']-df4['gamma_c'])/(df4['ctplus1']-df4['gamma_c'])"
   ]
  },
  {
   "cell_type": "code",
   "execution_count": 18,
   "metadata": {},
   "outputs": [
    {
     "data": {
      "image/png": "[encoded data removed]",
      "text/plain": [
       "<Figure size 432x288 with 4 Axes>"
      ]
     },
     "metadata": {
      "needs_background": "light"
     },
     "output_type": "display_data"
    },
    {
     "name": "stdout",
     "output_type": "stream",
     "text": [
      "\n",
      "Saving figure inter_consumption in ./Figures\n"
     ]
    },
    {
     "data": {
      "text/plain": [
       "<Figure size 432x288 with 0 Axes>"
      ]
     },
     "metadata": {},
     "output_type": "display_data"
    },
    {
     "name": "stdout",
     "output_type": "stream",
     "text": [
      "\n"
     ]
    }
   ],
   "source": [
    "fig, ax=plt.subplots(2,2)\n",
    "ax[0,0].plot('ratio', data=df1, linestyle='dashed')\n",
    "ax[0,0].axhline((1+rho1)/(1+r1), linestyle='dotted', color='red')\n",
    "ax[0,0].set_ylim([0.75,1.25])\n",
    "ax[0,0].set_title('Bover')\n",
    "ax[0,1].plot('ratio', data=df2, linestyle='dashed')\n",
    "ax[0,1].axhline((1+rho2)/(1+r2), linestyle='dotted', color='red')\n",
    "ax[0,1].set_ylim([0.75,1.25])\n",
    "ax[0,1].set_title('Realistic I')\n",
    "ax[1,0].plot('ratio', data=df3, linestyle='dashed')\n",
    "ax[1,0].axhline((1+rho3)/(1+r3), linestyle='dotted', color='red')\n",
    "ax[1,0].set_ylim([0.75,1.25])\n",
    "ax[1,0].set_title('Realistic II')\n",
    "ax[1,1].plot('ratio', data=df4, linestyle='dashed')\n",
    "ax[1,1].axhline((1+rho4)/(1+r4), linestyle='dotted', color='red')\n",
    "ax[1,1].set_ylim([0.75,1.25])\n",
    "ax[1,1].set_title('No Habit')\n",
    "fig.tight_layout()\n",
    "fig.subplots_adjust(bottom=0.15)\n",
    "fig.legend(['Consumption Ratio', r'(1+$\\rho$)/(1+r)'], loc='lower center', ncol=2)\n",
    "plt.show()\n",
    "makeFig('inter_consumption')"
   ]
  }
 ],
 "metadata": {
  "kernelspec": {
   "display_name": "Python 3",
   "language": "python",
   "name": "python3"
  },
  "language_info": {
   "codemirror_mode": {
    "name": "ipython",
    "version": 3
   },
   "file_extension": ".py",
   "mimetype": "text/x-python",
   "name": "python",
   "nbconvert_exporter": "python",
   "pygments_lexer": "ipython3",
   "version": "3.8.5"
  }
 },
 "nbformat": 4,
 "nbformat_minor": 4
}
